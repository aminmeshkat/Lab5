{
  "nbformat": 4,
  "nbformat_minor": 0,
  "metadata": {
    "colab": {
      "name": "lab5.ipynb",
      "provenance": []
    },
    "kernelspec": {
      "name": "python3",
      "display_name": "Python 3"
    }
  },
  "cells": [
    {
      "cell_type": "code",
      "metadata": {
        "id": "aJ9i8uS6qGUp",
        "colab_type": "code",
        "colab": {
          "base_uri": "https://localhost:8080/",
          "height": 34
        },
        "outputId": "b3ed11ac-87de-4322-bb88-a2ad748cbc91"
      },
      "source": [
        "# Task 1\n",
        "\n",
        "import math\n",
        "\n",
        "class Point(object):\n",
        "  \n",
        "  def __init__(self, x , y):\n",
        "    self.x = x\n",
        "    self.y = y\n",
        "\n",
        "def distance_between_points(P1,P2):\n",
        "  return math.sqrt((P1.x - P2.x)**2 + (P1.y - P2.y)**2)\n",
        "\n",
        "P1 = Point(10,10)\n",
        "P2 = Point(10,15)\n",
        "print(f\"Distance between {P1.x} {P1.y} and {P2.x} {P2.y} is : \" , distance_between_points(P1, P2))"
      ],
      "execution_count": 1,
      "outputs": [
        {
          "output_type": "stream",
          "text": [
            "Distance between 10 10 and 10 15 is :  5.0\n"
          ],
          "name": "stdout"
        }
      ]
    },
    {
      "cell_type": "code",
      "metadata": {
        "id": "y9doiMJOzRHj",
        "colab_type": "code",
        "colab": {
          "base_uri": "https://localhost:8080/",
          "height": 34
        },
        "outputId": "7ac096a2-af84-48c7-cf30-0600d8807b7f"
      },
      "source": [
        "# Task 2 A (Extra)\n",
        "\n",
        "\n",
        "class Rectangle():\n",
        "\n",
        "  def __init__(self, width, height, corner):\n",
        "\n",
        "    self.width = width\n",
        "    self.height = height\n",
        "    self.corner = corner\n",
        "\n",
        "  def find_center(self):\n",
        "    return (self.corner.x + (self.width / 2) , self.corner.y + (self.height / 2))\n",
        "\n",
        "P1 = Point(12,12)\n",
        "Rect1 = Rectangle(50,50,P1)\n",
        "print(Rect1.find_center())\n",
        "\n"
      ],
      "execution_count": 7,
      "outputs": [
        {
          "output_type": "stream",
          "text": [
            "(37.0, 37.0)\n"
          ],
          "name": "stdout"
        }
      ]
    },
    {
      "cell_type": "code",
      "metadata": {
        "id": "5RaZL78c38Fc",
        "colab_type": "code",
        "colab": {
          "base_uri": "https://localhost:8080/",
          "height": 34
        },
        "outputId": "e5f6e550-19ee-4e77-808f-520723b803d8"
      },
      "source": [
        "# Task 2 A (main solution)\n",
        "\n",
        "class Rectangle():\n",
        "\n",
        "  def __init__(self, width, height, corner):\n",
        "\n",
        "    self.width = width\n",
        "    self.height = height\n",
        "    self.corner = corner\n",
        "\n",
        "def find_center(r):\n",
        "  return (r.corner.x + (r.width / 2) , r.corner.y + (r.height / 2))\n",
        "\n",
        "P1 = Point(15,10)\n",
        "Rect1 = Rectangle(20,20,P1)\n",
        "print(find_center(Rect1))"
      ],
      "execution_count": 4,
      "outputs": [
        {
          "output_type": "stream",
          "text": [
            "(25.0, 20.0)\n"
          ],
          "name": "stdout"
        }
      ]
    },
    {
      "cell_type": "code",
      "metadata": {
        "id": "UTHb9maD5FRf",
        "colab_type": "code",
        "colab": {
          "base_uri": "https://localhost:8080/",
          "height": 34
        },
        "outputId": "c3fde1dc-0a1d-4870-9dc7-9f6848532234"
      },
      "source": [
        "#  Task 2 Part B\n",
        "\n",
        "def move_rectangle(r, dx, dy):\n",
        "  r.corner.x = r.corner.x + dx\n",
        "  r.corner.y = r.corner.y + dy\n",
        "  print(f\"New coordinate for corner is {r.corner.x} {r.corner.y} , and new coordination of the other vertex is : {r.corner.x + r.width} {r.corner.y + r.height}\")\n",
        "\n",
        "P1 = Point(10,10)\n",
        "Rect1 = Rectangle(20,20,P1)\n",
        "dx = 15\n",
        "dy = 15\n",
        "move_rectangle(Rect1, dx, dy)"
      ],
      "execution_count": 8,
      "outputs": [
        {
          "output_type": "stream",
          "text": [
            "New coordinate for corner is 25 25 , and new coordination of the other vertex is : 45 45\n"
          ],
          "name": "stdout"
        }
      ]
    },
    {
      "cell_type": "code",
      "metadata": {
        "id": "TXs_5nt27enb",
        "colab_type": "code",
        "colab": {
          "base_uri": "https://localhost:8080/",
          "height": 34
        },
        "outputId": "8bb6c20c-3903-4772-acd5-7b0e4350b412"
      },
      "source": [
        "# Task 3 A\n",
        "\n",
        "class Point():\n",
        "\n",
        "  def __init__(self, x = 0 , y = 0):\n",
        "    self.x = x\n",
        "    self.y = y\n",
        "\n",
        "  def __str__(self):\n",
        "    if isinstance(self, Point):\n",
        "      return f\"Value of the point is : {self.x},{self.y}\"\n",
        "\n",
        "p1 = Point(100,100)\n",
        "print(p1)\n"
      ],
      "execution_count": 9,
      "outputs": [
        {
          "output_type": "stream",
          "text": [
            "Value of the point is : 100,100\n"
          ],
          "name": "stdout"
        }
      ]
    },
    {
      "cell_type": "code",
      "metadata": {
        "id": "Qhh-M9DB4Y7s",
        "colab_type": "code",
        "colab": {
          "base_uri": "https://localhost:8080/",
          "height": 34
        },
        "outputId": "f2197d2d-28cf-4d7c-93c6-2edee6364ccc"
      },
      "source": [
        "# Task 3 B\n",
        "\n",
        "class Point():\n",
        "\n",
        "  def __init__(self, x = 0 , y = 0):\n",
        "    self.x = x\n",
        "    self.y = y\n",
        "\n",
        "  def __str__(self):\n",
        "    if isinstance(self, Point):\n",
        "      return f\"Value of the point is : {self.x},{self.y}\"\n",
        "  \n",
        "  def __add__(self, other):\n",
        "    return (f\"Result of adding two points is : {self.x + other.x} , {self.y + other.y}\")\n",
        "\n",
        "p1 = Point(10,15)\n",
        "p2 = Point(20,25)\n",
        "print(p1 + p2)"
      ],
      "execution_count": 10,
      "outputs": [
        {
          "output_type": "stream",
          "text": [
            "Result of adding two points is : 30 , 40\n"
          ],
          "name": "stdout"
        }
      ]
    },
    {
      "cell_type": "code",
      "metadata": {
        "id": "z2wNj_jO5OZ1",
        "colab_type": "code",
        "colab": {
          "base_uri": "https://localhost:8080/",
          "height": 34
        },
        "outputId": "3d3a8520-c49e-4b5a-bcd8-8fe74a9e4c8c"
      },
      "source": [
        "# Task 4 A\n",
        "\n",
        "class Time():\n",
        "\n",
        "  def __init__(self, hour, minute, second):\n",
        "    self.hour = hour\n",
        "    self.minute = minute\n",
        "    self.second = second\n",
        "  \n",
        "  def __str__(self):\n",
        "    return f\"{self.hour}:{self.minute}:{self.second}\"\n",
        "\n",
        "\n",
        "t1 = Time(10,20,30)\n",
        "print(t1)"
      ],
      "execution_count": 12,
      "outputs": [
        {
          "output_type": "stream",
          "text": [
            "10:20:30\n"
          ],
          "name": "stdout"
        }
      ]
    },
    {
      "cell_type": "code",
      "metadata": {
        "id": "BddX2HHS6YIb",
        "colab_type": "code",
        "colab": {
          "base_uri": "https://localhost:8080/",
          "height": 34
        },
        "outputId": "e295c82e-392c-48a3-e419-d971fcd52484"
      },
      "source": [
        "# Task 4 B\n",
        "\n",
        "class Time():\n",
        "\n",
        "  def __init__(self, hour, minute, second):\n",
        "    self.hour = hour\n",
        "    self.minute = minute\n",
        "    self.second = second\n",
        "  \n",
        "  def __str__(self):\n",
        "    return f\"{self.hour}:{self.minute}:{self.second}\"\n",
        "\n",
        "def is_after(t1, t2):\n",
        "  seconds1 = t1.hour * 3600 + t1.minute * 60 + t1.second \n",
        "  seconds2 = t2.hour * 3600 + t2.minute * 60 + t2.second\n",
        "  return seconds1 > seconds2\n",
        "\n",
        "t1 = Time(10,20,30)\n",
        "t2 = Time(8,16,59)\n",
        "print(is_after(t1 , t2))"
      ],
      "execution_count": 17,
      "outputs": [
        {
          "output_type": "stream",
          "text": [
            "True\n"
          ],
          "name": "stdout"
        }
      ]
    },
    {
      "cell_type": "code",
      "metadata": {
        "id": "FffNVSrm8v38",
        "colab_type": "code",
        "colab": {
          "base_uri": "https://localhost:8080/",
          "height": 34
        },
        "outputId": "9024a21e-9f1d-4cf3-8ab0-13758fc4b582"
      },
      "source": [
        "# Task 5 A\n",
        "\n",
        "class Kangaroo():\n",
        "\n",
        "  def __init__(self):\n",
        "    self.pouch_contents = []\n"
      ],
      "execution_count": 19,
      "outputs": [
        {
          "output_type": "execute_result",
          "data": {
            "text/plain": [
              "[]"
            ]
          },
          "metadata": {
            "tags": []
          },
          "execution_count": 19
        }
      ]
    },
    {
      "cell_type": "code",
      "metadata": {
        "id": "sCXVuRXI9VCG",
        "colab_type": "code",
        "colab": {}
      },
      "source": [
        "# Task 5 B\n",
        "\n",
        "class Kangaroo():\n",
        "\n",
        "  def __init__(self):\n",
        "    self.pouch_contents = []\n",
        "\n",
        "  def put_in_pouch(self, an_obj):\n",
        "    self.pouch_contents.append(an_obj)\n"
      ],
      "execution_count": 0,
      "outputs": []
    },
    {
      "cell_type": "code",
      "metadata": {
        "id": "2a0yc5a2-EKf",
        "colab_type": "code",
        "colab": {
          "base_uri": "https://localhost:8080/",
          "height": 51
        },
        "outputId": "1b7147f2-94f5-4511-ea23-d2d41f06481a"
      },
      "source": [
        "# Task 5 C\n",
        "\n",
        "class Kangaroo():\n",
        "\n",
        "  def __init__(self):\n",
        "    self.pouch_contents = []\n",
        "\n",
        "  def put_in_pouch(self, an_obj):\n",
        "    self.pouch_contents.append(an_obj)\n",
        "\n",
        "  def __str__(self):\n",
        "    return str(self.__dict__)\n",
        "\n",
        "kanga = Kangaroo()\n",
        "roo = Kangaroo()\n",
        "kanga.put_in_pouch(roo)\n",
        "print(kanga)\n",
        "print(roo)\n"
      ],
      "execution_count": 26,
      "outputs": [
        {
          "output_type": "stream",
          "text": [
            "{'pouch_contents': [<__main__.Kangaroo object at 0x7f0b3a4d9780>]}\n",
            "{'pouch_contents': []}\n"
          ],
          "name": "stdout"
        }
      ]
    },
    {
      "cell_type": "markdown",
      "metadata": {
        "id": "Le0xEPTCBOS_",
        "colab_type": "text"
      },
      "source": [
        "Task 6 \n",
        "\n",
        "True , False , False\n",
        "\n",
        "True , True , False\n",
        "\n",
        "True , True , True"
      ]
    },
    {
      "cell_type": "markdown",
      "metadata": {
        "id": "jQ9epUThDVFM",
        "colab_type": "text"
      },
      "source": [
        "Task 7\n",
        "\n",
        "True , False , False\n",
        "\n",
        "True , True , False\n",
        "\n",
        "True , True , True"
      ]
    },
    {
      "cell_type": "code",
      "metadata": {
        "id": "AAGG4v4TEns9",
        "colab_type": "code",
        "colab": {
          "base_uri": "https://localhost:8080/",
          "height": 34
        },
        "outputId": "a3b93654-bdc8-4e6b-c366-0a0d51634c13"
      },
      "source": [
        "# Task 8 A\n",
        "\n",
        "class Super:\n",
        "  def __init__(self,name):\n",
        "    self.name = name\n",
        "  def __str__(self):\n",
        "    return \"My name is \" + self.name + \".\"\n",
        "\n",
        "class Sub(Super):\n",
        "  def __init__(self,name):\n",
        "    Super.__init__(self,name)\n",
        "object = Sub(\"Bob\")\n",
        "print(object)"
      ],
      "execution_count": 31,
      "outputs": [
        {
          "output_type": "stream",
          "text": [
            "My name is Bob.\n"
          ],
          "name": "stdout"
        }
      ]
    },
    {
      "cell_type": "code",
      "metadata": {
        "id": "ltISo7AHF7Je",
        "colab_type": "code",
        "colab": {
          "base_uri": "https://localhost:8080/",
          "height": 34
        },
        "outputId": "3ab6904c-a727-4ea6-baa6-22ac7a3f3499"
      },
      "source": [
        "# Task 8 B\n",
        "\n",
        "class Super:\n",
        "  def __init__(self,name):\n",
        "    self.name = name\n",
        "  def __str__(self):\n",
        "    return \"My name is \" + self.name + \".\"\n",
        "class Sub(Super):\n",
        "  def __init__(self,name):\n",
        "    super().__init__(name)\n",
        "object = Sub(\"Bob\")\n",
        "print(object)"
      ],
      "execution_count": 32,
      "outputs": [
        {
          "output_type": "stream",
          "text": [
            "My name is Bob.\n"
          ],
          "name": "stdout"
        }
      ]
    },
    {
      "cell_type": "code",
      "metadata": {
        "id": "CP1ukeV6FsVv",
        "colab_type": "code",
        "colab": {
          "base_uri": "https://localhost:8080/",
          "height": 51
        },
        "outputId": "8444b7b9-b39e-4f78-c58d-5542df4ef19e"
      },
      "source": [
        "# Homework Q 1\n",
        "\n",
        "class Point():\n",
        "  \n",
        "  def __init__(self, x , y):\n",
        "    self.x = x\n",
        "    self.y = y\n",
        "\n",
        "  def __str__(self):\n",
        "    return f\"{self.x},{self.y}\"\n",
        "\n",
        "  def __add__(self, other):\n",
        "    if isinstance(other, Point):\n",
        "      p_temp = Point(self.x + other.x, self.y + other.y)\n",
        "      return p_temp\n",
        "    elif isinstance(other,tuple):\n",
        "      if len(other) != 2:\n",
        "        return \"Error. Tuple must have just 2 values...\"\n",
        "      else:\n",
        "        p_temp = Point(self.x + other[0], self.y + other[1])\n",
        "        return (p_temp)\n",
        "\n",
        "p1 = Point(20,10)\n",
        "p2 = Point(10,15)\n",
        "print(p1 + p2)\n",
        "t = (12,18)\n",
        "print(p1 + t)\n"
      ],
      "execution_count": 8,
      "outputs": [
        {
          "output_type": "stream",
          "text": [
            "30,25\n",
            "32,28\n"
          ],
          "name": "stdout"
        }
      ]
    },
    {
      "cell_type": "code",
      "metadata": {
        "id": "EnY5Fkebh6G2",
        "colab_type": "code",
        "colab": {
          "base_uri": "https://localhost:8080/",
          "height": 68
        },
        "outputId": "56975fde-6abe-478d-e2c2-87a4f5bbd9da"
      },
      "source": [
        "# Homework Q 2\n",
        "\n",
        "class IP_v4():\n",
        "\n",
        "  def __init__(self, lst, mask):\n",
        "    self.lst = lst\n",
        "    self.mask = mask\n",
        "\n",
        "  def getNetwork(self):\n",
        "    lst_temp1 = self.toBinary()\n",
        "    lst_temp2 = []\n",
        "    for i in range(32):\n",
        "      if i < self.mask:\n",
        "        lst_temp2.append(1)\n",
        "      else:\n",
        "        lst_temp2.append(0)\n",
        "    lst_res = []\n",
        "    for i in range(32):\n",
        "      lst_res.append(lst_temp1[i] & lst_temp2[i])\n",
        "    lst_decimal = []\n",
        "    for i in range(4):\n",
        "      temp_sum = 0\n",
        "      for j in range(8):\n",
        "        if lst_res[i*8 + j] == 1:\n",
        "          temp_sum += 2**(7-j)\n",
        "      lst_decimal.append(temp_sum)\n",
        "    return lst_decimal\n",
        "\n",
        "   \n",
        "  def getMask(self):\n",
        "    q, r = divmod(self.mask,8)\n",
        "    lst_mask = []\n",
        "    for i in range(q):\n",
        "      lst_mask.append(255)\n",
        "    if q < 4:\n",
        "      sum_temp = 0\n",
        "      for j in range(7, 7-r, -1):\n",
        "        sum_temp += 2**j\n",
        "      lst_mask.append(sum_temp)\n",
        "    for k in range(4 - q -1, 0, -1):\n",
        "      lst_mask.append(0)\n",
        "    return lst_mask\n",
        "\n",
        "  def toBinary(self):\n",
        "    lst_bin = []    \n",
        "    for item in self.lst:\n",
        "      lst_temp = []\n",
        "      for i in range(8):\n",
        "        if item > 1:\n",
        "          q , r = divmod(item,2)\n",
        "          lst_temp.append(r)\n",
        "          item = q\n",
        "        else:\n",
        "          lst_temp.append(item)\n",
        "          item = 0\n",
        "      for j in lst_temp[::-1]:\n",
        "        lst_bin.append(j)\n",
        "    return (lst_bin)\n",
        "\n",
        "  def getAddress(self):\n",
        "    return (self.lst, self.mask)\n",
        "\n",
        "lst1 = [192,168,1,1]\n",
        "mask = 24\n",
        "ip1 = IP_v4(lst1,mask)\n",
        "print(\"IPV4 Address is : \",ip1.getAddress())\n",
        "print(\"Subnet mask is : \",ip1.getMask())\n",
        "print(\"Network Address is : \",ip1.getNetwork())"
      ],
      "execution_count": 28,
      "outputs": [
        {
          "output_type": "stream",
          "text": [
            "IPV4 Address is :  ([192, 168, 1, 1], 24)\n",
            "Subnet mask is :  [255, 255, 255, 0]\n",
            "Network Address is :  [192, 168, 1, 0]\n"
          ],
          "name": "stdout"
        }
      ]
    },
    {
      "cell_type": "code",
      "metadata": {
        "id": "A3B2R1LMNpoI",
        "colab_type": "code",
        "colab": {
          "base_uri": "https://localhost:8080/",
          "height": 102
        },
        "outputId": "a322a3a8-8fc4-4009-c5f4-b759ad8d8619"
      },
      "source": [
        "# Homework Q 3\n",
        "\n",
        "class Calculator(IP_v4):\n",
        "\n",
        "  def broadcastAddress(self):\n",
        "    lst_temp = self.getNetwork()\n",
        "    tmp_obj = Calculator(lst_temp,self.mask)\n",
        "    lst_temp2 = tmp_obj.toBinary()\n",
        "    for i in range(self.mask, 32):\n",
        "      lst_temp2[i] = 1\n",
        "    lst_decimal = []\n",
        "    for i in range(4):\n",
        "      temp_sum = 0\n",
        "      for j in range(8):\n",
        "        if lst_temp2[i*8 + j] == 1:\n",
        "          temp_sum += 2**(7-j)\n",
        "      lst_decimal.append(temp_sum)\n",
        "    return lst_decimal\n",
        "\n",
        "  def firstHost(self):\n",
        "    lst_temp = self.getNetwork()\n",
        "    lst_temp[3] = lst_temp[3] + 1\n",
        "    return lst_temp\n",
        "\n",
        "  def lastHost(self):\n",
        "    lst_temp = self.broadcastAddress()\n",
        "    lst_temp[3] = lst_temp[3] - 1\n",
        "    return lst_temp\n",
        "\n",
        "  def totalNoHost(self):\n",
        "    return 2**(32-self.mask) - 2\n",
        "    \n",
        "\n",
        "      \n",
        "\n",
        "lst1 = [192,168,1,1]\n",
        "mask = 20\n",
        "cal1 = Calculator(lst1, mask)\n",
        "print(f\"Netwotk address is : {cal1.getNetwork()}\")\n",
        "print(f\"Broadcast Address is : {cal1.broadcastAddress()}\")\n",
        "print(f\"First host Address is : {cal1.firstHost()}\")\n",
        "print(f\"Last host Address is : {cal1.lastHost()}\")\n",
        "print(f\"Total Number of hosts are : {cal1.totalNoHost()}\")"
      ],
      "execution_count": 39,
      "outputs": [
        {
          "output_type": "stream",
          "text": [
            "Netwotk address is : [192, 168, 0, 0]\n",
            "Broadcast Address is : [192, 168, 15, 255]\n",
            "First host Address is : [192, 168, 0, 1]\n",
            "Last host Address is : [192, 168, 15, 254]\n",
            "Total Number of hosts are : 4094\n"
          ],
          "name": "stdout"
        }
      ]
    }
  ]
}